{
 "cells": [
  {
   "attachments": {},
   "cell_type": "markdown",
   "metadata": {},
   "source": [
    "## Mud card answers\n",
    "- **Lecture 16, quiz 2 was updated!**\n",
    "    - The best way to check the number of trees in an XGB model is `XGB.best_iteration`\n",
    "    - Check it in the [manual](https://xgboost.readthedocs.io/en/stable/python/python_api.html)\n",
    "- **I am struggling to see how XGBoost, Imputation and Reduced-Features models work with the GridSearchCV that we learned during the last lecture.**\n",
    "    - You can train XGB models with GridSearchCV but then the number of estimators need to be a hyperparameter because GridSearchCV cannot handle XGB's early stopping.\n",
    "    - Same with reduced features model. When you train one ML algorithm for one pattern, you can do that with GridSearchCV\n",
    "- **Can you quickly explain again why we start with the testing set in reduced feature modeling and not the training set? What if the training set has different combinations of missing values?**\n",
    "    - Yeah, that can be an issue.\n",
    "    - I focused on the test set because one of the main goals of the ML pipeline is to calcualte a generalization error which is done using the test set.\n",
    "    - You can of course look at the whole dataset to find all the possible patterns.\n",
    "- **If there is a scenario where there are many missing values in the training set and thousands of unique patterns are found, how should you deal with that in regards to computing time? Would you have to run thousands of models? Is this used to help determine the best model pattern?**\n",
    "    - Yes, the number of models you'll need to train can be large\n",
    "    - Comutational time is usually not the main concern for companies especially if you work with human data because cloud services are cheap when compared to employee salaries\n",
    "    - If computational time is an issue (again, it really shouldn't nowadays), you can limit yourself to computationally efficent ML models like the linear models or trees\n",
    "- **What other estimators would work besides LinearRegression (non-deterministic)?**\n",
    "    - I assume this question refers to multivariate imputation\n",
    "    - Linear regression is deterministic so it should NOT be used in multivariate imputation\n",
    "    - Decision trees or a random forest with a few trees are usually the best "
   ]
  },
  {
   "cell_type": "markdown",
   "metadata": {
    "slideshow": {
     "slide_type": "slide"
    }
   },
   "source": [
    "## Global feature importance metrics\n",
    "By the end of this module, you will be able to\n",
    " - perform permutation feature importance calculation\n",
    " - study the coefficients of linear models\n",
    " - outlook to other metrics "
   ]
  },
  {
   "cell_type": "markdown",
   "metadata": {},
   "source": [
    "## The supervised ML pipeline\n",
    "The goal: Use the training data (X and y) to develop a <font color='red'>model</font> which can <font color='red'>accurately</font> predict the target variable (y_new') for previously unseen data (X_new).\n",
    "\n",
    "**1. Exploratory Data Analysis (EDA)**: you need to understand your data and verify that it doesn't contain errors\n",
    "   - do as much EDA as you can!\n",
    "    \n",
    "**2. Split the data into different sets**: most often the sets are train, validation, and test (or holdout)\n",
    "   - practitioners often make errors in this step!\n",
    "   - you can split the data randomly, based on groups, based on time, or any other non-standard way if necessary to answer your ML question\n",
    "\n",
    "**3. Preprocess the data**: ML models only work if X and Y are numbers! Some ML models additionally require each feature to have 0 mean and 1 standard deviation (standardized features)\n",
    "   - often the original features you get contain strings (for example a gender feature would contain 'male', 'female', 'non-binary', 'unknown') which needs to transformed into numbers\n",
    "   - often the features are not standardized (e.g., age is between 0 and 100) but it needs to be standardized\n",
    "    \n",
    "**4. Choose an evaluation metric**: depends on the priorities of the stakeholders\n",
    "   - often requires quite a bit of thinking and ethical considerations\n",
    "     \n",
    "**5. Choose one or more ML techniques**: it is highly recommended that you try multiple models\n",
    "   - start with simple models like linear or logistic regression\n",
    "   - try also more complex models like nearest neighbors, support vector machines, random forest, etc.\n",
    "    \n",
    "**6. Tune the hyperparameters of your ML models (aka cross-validation)**\n",
    "   - ML techniques have hyperparameters that you need to optimize to achieve best performance\n",
    "   - for each ML model, decide which parameters to tune and what values to try\n",
    "   - loop through each parameter combination\n",
    "       - train one model for each parameter combination\n",
    "       - evaluate how well the model performs on the validation set\n",
    "   - take the parameter combo that gives the best validation score\n",
    "   - evaluate that model on the test set to report how well the model is expected to perform on previously unseen data\n",
    "    \n",
    "<span style=\"background-color: #FFFF00\"> **7. Interpret your model**: black boxes are often not useful</span>\n",
    "   - check if your model uses features that make sense (excellent tool for debugging)\n",
    "   - often model predictions are not enough, you need to be able to explain how the model arrived to a particular prediction (e.g., in health care)"
   ]
  },
  {
   "cell_type": "markdown",
   "metadata": {
    "slideshow": {
     "slide_type": "slide"
    }
   },
   "source": [
    "## Motivation\n",
    " - debugging ML models is tough\n",
    "    - a model that runs without errors/warning is not necessarily correct\n",
    " - how do you know that your model is correct?\n",
    "    - check test set predictions\n",
    "       - in regression: check points with a large difference between true and predicted values\n",
    "       - in classification: confusion matrix, check out FPs and FNs\n",
    "    - inspect your model\n",
    "       - especially useful for non-linear models\n",
    "       - metrics to measure how much a model depends on a feature is one way to inspect your model"
   ]
  },
  {
   "cell_type": "markdown",
   "metadata": {
    "slideshow": {
     "slide_type": "slide"
    }
   },
   "source": [
    "## <font color='LIGHTGRAY'>Global feature importance metrics</font>\n",
    "<font color='LIGHTGRAY'>By the end of this module, you will be able to</font>\n",
    " - **perform permutation feature importance calculation**\n",
    " - <font color='LIGHTGRAY'>study coefficients of linear models</font>\n",
    " - <font color='LIGHTGRAY'>outlook to other metrics </font>"
   ]
  },
  {
   "cell_type": "markdown",
   "metadata": {
    "slideshow": {
     "slide_type": "slide"
    }
   },
   "source": [
    "## Permutation feature importance\n",
    " - model agnostic, you can use it with any supervised ML model\n",
    " - steps:\n",
    "    - train a model and calculate a test score :)\n",
    "    - randomly shuffle a single feature in the test set: shuffle values in that feature\n",
    "    - recalculate the test score with the shuffled data\n",
    "    - model score worsens because the shuffling breaks the relationship between feature and target\n",
    "    - the larger the difference, the more important the feature is"
   ]
  },
  {
   "cell_type": "code",
   "execution_count": 2,
   "metadata": {
    "slideshow": {
     "slide_type": "slide"
    }
   },
   "outputs": [
    {
     "data": {
      "text/html": [
       "<div>\n",
       "<style scoped>\n",
       "    .dataframe tbody tr th:only-of-type {\n",
       "        vertical-align: middle;\n",
       "    }\n",
       "\n",
       "    .dataframe tbody tr th {\n",
       "        vertical-align: top;\n",
       "    }\n",
       "\n",
       "    .dataframe thead th {\n",
       "        text-align: right;\n",
       "    }\n",
       "</style>\n",
       "<table border=\"1\" class=\"dataframe\">\n",
       "  <thead>\n",
       "    <tr style=\"text-align: right;\">\n",
       "      <th></th>\n",
       "      <th>age</th>\n",
       "      <th>workclass</th>\n",
       "      <th>fnlwgt</th>\n",
       "      <th>education</th>\n",
       "      <th>education-num</th>\n",
       "      <th>marital-status</th>\n",
       "      <th>occupation</th>\n",
       "      <th>relationship</th>\n",
       "      <th>race</th>\n",
       "      <th>sex</th>\n",
       "      <th>capital-gain</th>\n",
       "      <th>capital-loss</th>\n",
       "      <th>hours-per-week</th>\n",
       "      <th>native-country</th>\n",
       "    </tr>\n",
       "  </thead>\n",
       "  <tbody>\n",
       "    <tr>\n",
       "      <th>0</th>\n",
       "      <td>39</td>\n",
       "      <td>State-gov</td>\n",
       "      <td>77516</td>\n",
       "      <td>Bachelors</td>\n",
       "      <td>13</td>\n",
       "      <td>Never-married</td>\n",
       "      <td>Adm-clerical</td>\n",
       "      <td>Not-in-family</td>\n",
       "      <td>White</td>\n",
       "      <td>Male</td>\n",
       "      <td>2174</td>\n",
       "      <td>0</td>\n",
       "      <td>40</td>\n",
       "      <td>United-States</td>\n",
       "    </tr>\n",
       "    <tr>\n",
       "      <th>1</th>\n",
       "      <td>50</td>\n",
       "      <td>Self-emp-not-inc</td>\n",
       "      <td>83311</td>\n",
       "      <td>Bachelors</td>\n",
       "      <td>13</td>\n",
       "      <td>Married-civ-spouse</td>\n",
       "      <td>Exec-managerial</td>\n",
       "      <td>Husband</td>\n",
       "      <td>White</td>\n",
       "      <td>Male</td>\n",
       "      <td>0</td>\n",
       "      <td>0</td>\n",
       "      <td>13</td>\n",
       "      <td>United-States</td>\n",
       "    </tr>\n",
       "    <tr>\n",
       "      <th>2</th>\n",
       "      <td>38</td>\n",
       "      <td>Private</td>\n",
       "      <td>215646</td>\n",
       "      <td>HS-grad</td>\n",
       "      <td>9</td>\n",
       "      <td>Divorced</td>\n",
       "      <td>Handlers-cleaners</td>\n",
       "      <td>Not-in-family</td>\n",
       "      <td>White</td>\n",
       "      <td>Male</td>\n",
       "      <td>0</td>\n",
       "      <td>0</td>\n",
       "      <td>40</td>\n",
       "      <td>United-States</td>\n",
       "    </tr>\n",
       "    <tr>\n",
       "      <th>3</th>\n",
       "      <td>53</td>\n",
       "      <td>Private</td>\n",
       "      <td>234721</td>\n",
       "      <td>11th</td>\n",
       "      <td>7</td>\n",
       "      <td>Married-civ-spouse</td>\n",
       "      <td>Handlers-cleaners</td>\n",
       "      <td>Husband</td>\n",
       "      <td>Black</td>\n",
       "      <td>Male</td>\n",
       "      <td>0</td>\n",
       "      <td>0</td>\n",
       "      <td>40</td>\n",
       "      <td>United-States</td>\n",
       "    </tr>\n",
       "    <tr>\n",
       "      <th>4</th>\n",
       "      <td>28</td>\n",
       "      <td>Private</td>\n",
       "      <td>338409</td>\n",
       "      <td>Bachelors</td>\n",
       "      <td>13</td>\n",
       "      <td>Married-civ-spouse</td>\n",
       "      <td>Prof-specialty</td>\n",
       "      <td>Wife</td>\n",
       "      <td>Black</td>\n",
       "      <td>Female</td>\n",
       "      <td>0</td>\n",
       "      <td>0</td>\n",
       "      <td>40</td>\n",
       "      <td>Cuba</td>\n",
       "    </tr>\n",
       "  </tbody>\n",
       "</table>\n",
       "</div>"
      ],
      "text/plain": [
       "   age          workclass  fnlwgt   education  education-num  \\\n",
       "0   39          State-gov   77516   Bachelors             13   \n",
       "1   50   Self-emp-not-inc   83311   Bachelors             13   \n",
       "2   38            Private  215646     HS-grad              9   \n",
       "3   53            Private  234721        11th              7   \n",
       "4   28            Private  338409   Bachelors             13   \n",
       "\n",
       "        marital-status          occupation    relationship    race      sex  \\\n",
       "0        Never-married        Adm-clerical   Not-in-family   White     Male   \n",
       "1   Married-civ-spouse     Exec-managerial         Husband   White     Male   \n",
       "2             Divorced   Handlers-cleaners   Not-in-family   White     Male   \n",
       "3   Married-civ-spouse   Handlers-cleaners         Husband   Black     Male   \n",
       "4   Married-civ-spouse      Prof-specialty            Wife   Black   Female   \n",
       "\n",
       "   capital-gain  capital-loss  hours-per-week  native-country  \n",
       "0          2174             0              40   United-States  \n",
       "1             0             0              13   United-States  \n",
       "2             0             0              40   United-States  \n",
       "3             0             0              40   United-States  \n",
       "4             0             0              40            Cuba  "
      ]
     },
     "metadata": {},
     "output_type": "display_data"
    },
    {
     "name": "stdout",
     "output_type": "stream",
     "text": [
      "0         <=50K\n",
      "1         <=50K\n",
      "2         <=50K\n",
      "3         <=50K\n",
      "4         <=50K\n",
      "          ...  \n",
      "32556     <=50K\n",
      "32557      >50K\n",
      "32558     <=50K\n",
      "32559     <=50K\n",
      "32560      >50K\n",
      "Name: gross-income, Length: 32561, dtype: object\n"
     ]
    }
   ],
   "source": [
    "import numpy as np\n",
    "import pandas as pd\n",
    "from sklearn.svm import SVC\n",
    "from sklearn.ensemble import RandomForestClassifier\n",
    "from sklearn.pipeline import make_pipeline\n",
    "from sklearn.model_selection import GridSearchCV\n",
    "from sklearn.model_selection import train_test_split\n",
    "from sklearn.model_selection import StratifiedKFold\n",
    "from sklearn.preprocessing import StandardScaler\n",
    "from sklearn.compose import ColumnTransformer\n",
    "from sklearn.pipeline import Pipeline\n",
    "from sklearn.preprocessing import OneHotEncoder\n",
    "import matplotlib.pylab as plt\n",
    "\n",
    "df = pd.read_csv('data/adult_data.csv')\n",
    "label = 'gross-income'\n",
    "y = df[label]\n",
    "df.drop(columns=[label],inplace=True)\n",
    "X = df\n",
    "ftr_names = X.columns\n",
    "display(X.head())\n",
    "print(y)"
   ]
  },
  {
   "cell_type": "code",
   "execution_count": 3,
   "metadata": {
    "slideshow": {
     "slide_type": "slide"
    }
   },
   "outputs": [],
   "source": [
    "def ML_pipeline_kfold(X, y, random_state, n_folds):\n",
    "    # create a test set\n",
    "    X_other, X_test, y_other, y_test = train_test_split(X, y, test_size=0.2, random_state = random_state)\n",
    "    # splitter for _other\n",
    "    kf = StratifiedKFold(n_splits=n_folds, shuffle=True, random_state=random_state)\n",
    "    # create the pipeline: preprocessor + supervised ML method\n",
    "    cat_ftrs = ['workclass','education','marital-status','occupation','relationship','race','sex','native-country']\n",
    "    cont_ftrs = ['age','fnlwgt','education-num','capital-gain','capital-loss','hours-per-week']\n",
    "    # one-hot encoder\n",
    "    categorical_transformer = Pipeline(steps=[\n",
    "        ('onehot', OneHotEncoder(sparse_output=False,handle_unknown='ignore'))])\n",
    "    # standard scaler\n",
    "    numeric_transformer = Pipeline(steps=[\n",
    "        ('scaler', StandardScaler())])\n",
    "    preprocessor = ColumnTransformer(\n",
    "        transformers=[\n",
    "            ('num', numeric_transformer, cont_ftrs),\n",
    "            ('cat', categorical_transformer, cat_ftrs)])\n",
    "    pipe = make_pipeline(preprocessor, SVC())\n",
    "    #pipe = make_pipeline(preprocessor,RandomForestClassifier())\n",
    "    # the parameter(s) we want to tune\n",
    "    param_grid = {'svc__C': [0.01, 0.1, 1, 10, 100],\n",
    "                  'svc__gamma': [0.01, 0.1, 1, 10, 100]}\n",
    "    #param_grid = {\n",
    "    #              'randomforestclassifier__max_depth': [1, 3, 10, 30, 100], # no upper bound so the values are evenly spaced in log\n",
    "    #              'randomforestclassifier__max_features': [0.25, 0.5,0.75,1.0] # linearly spaced because it is between 0 and 1, 0 is omitted\n",
    "    #              } \n",
    "    \n",
    "    # prepare gridsearch\n",
    "    grid = GridSearchCV(pipe, param_grid=param_grid, cv=kf, return_train_score = True, n_jobs=6, verbose=True)\n",
    "    # do kfold CV on _other\n",
    "    grid.fit(X_other, y_other)\n",
    "    return grid, X_test, y_test"
   ]
  },
  {
   "cell_type": "markdown",
   "metadata": {
    "slideshow": {
     "slide_type": "subslide"
    }
   },
   "source": [
    "## Be careful, SVM is used on a relatively large dataset\n",
    "\n",
    "- 1.5 hours to run"
   ]
  },
  {
   "cell_type": "code",
   "execution_count": null,
   "metadata": {},
   "outputs": [],
   "source": [
    "model, X_test, y_test = ML_pipeline_kfold(X, y, 42, 4)\n",
    "print(model.best_score_)\n",
    "print(model.score(X_test,y_test))\n",
    "print(model.best_params_)\n",
    "\n",
    "# save the output so I can use it later\n",
    "import pickle\n",
    "file = open('results/grid.save', 'wb')\n",
    "pickle.dump((model,X_test,y_test),file)\n",
    "file.close()"
   ]
  },
  {
   "cell_type": "code",
   "execution_count": 6,
   "metadata": {
    "slideshow": {
     "slide_type": "slide"
    }
   },
   "outputs": [
    {
     "name": "stdout",
     "output_type": "stream",
     "text": [
      "test score =  0.8624289881774911\n",
      "test baseline =  0.7587901120835252\n",
      "shuffling age\n",
      "   shuffled test score: 0.851 +/- 0.002\n",
      "shuffling workclass\n",
      "   shuffled test score: 0.861 +/- 0.001\n",
      "shuffling fnlwgt\n",
      "   shuffled test score: 0.862 +/- 0.001\n",
      "shuffling education\n",
      "   shuffled test score: 0.86 +/- 0.001\n",
      "shuffling education-num\n",
      "   shuffled test score: 0.839 +/- 0.002\n",
      "shuffling marital-status\n",
      "   shuffled test score: 0.842 +/- 0.002\n",
      "shuffling occupation\n",
      "   shuffled test score: 0.844 +/- 0.002\n",
      "shuffling relationship\n",
      "   shuffled test score: 0.851 +/- 0.003\n",
      "shuffling race\n",
      "   shuffled test score: 0.862 +/- 0.0\n",
      "shuffling sex\n",
      "   shuffled test score: 0.862 +/- 0.0\n",
      "shuffling capital-gain\n",
      "   shuffled test score: 0.823 +/- 0.001\n",
      "shuffling capital-loss\n",
      "   shuffled test score: 0.855 +/- 0.001\n",
      "shuffling hours-per-week\n",
      "   shuffled test score: 0.855 +/- 0.002\n",
      "shuffling native-country\n",
      "   shuffled test score: 0.862 +/- 0.001\n"
     ]
    }
   ],
   "source": [
    "import pickle\n",
    "file = open('results/grid.save', 'rb')\n",
    "model, X_test, y_test = pickle.load(file)\n",
    "file.close()\n",
    "\n",
    "np.random.seed(42)\n",
    "\n",
    "nr_runs = 10\n",
    "scores = np.zeros([len(ftr_names), nr_runs])\n",
    "\n",
    "test_score = model.score(X_test, y_test)\n",
    "print('test score = ', test_score)\n",
    "print('test baseline = ', np.sum(y_test == ' <=50K')/len(y_test))\n",
    "# loop through the features\n",
    "for i in range(len(ftr_names)):\n",
    "    print('shuffling '+str(ftr_names[i]))\n",
    "    acc_scores = []\n",
    "    for j in range(nr_runs):\n",
    "        X_test_shuffled = X_test.copy()\n",
    "        X_test_shuffled[ftr_names[i]] = np.random.permutation(X_test[ftr_names[i]].values)\n",
    "        acc_scores.append(model.score(X_test_shuffled, y_test))\n",
    "    print('   shuffled test score:', np.around(np.mean(acc_scores),3),'+/-',np.around(np.std(acc_scores),3))\n",
    "    scores[i] = acc_scores"
   ]
  },
  {
   "cell_type": "code",
   "execution_count": 7,
   "metadata": {
    "slideshow": {
     "slide_type": "subslide"
    }
   },
   "outputs": [
    {
     "data": {
      "image/png": "[encoded data removed]",
      "text/plain": [
       "<Figure size 500x300 with 1 Axes>"
      ]
     },
     "metadata": {},
     "output_type": "display_data"
    }
   ],
   "source": [
    "sorted_indcs = np.argsort(np.mean(scores, axis=1))[::-1]\n",
    "plt.rcParams.update({'font.size': 11})\n",
    "plt.figure(figsize=(5,3))\n",
    "plt.boxplot(scores[sorted_indcs].T,labels=ftr_names[sorted_indcs],vert=False)\n",
    "plt.axvline(test_score,label='test score')\n",
    "plt.title(\"Permutation Importances (test set)\")\n",
    "plt.xlabel('score with perturbed feature')\n",
    "plt.legend()\n",
    "plt.tight_layout()\n",
    "plt.show()"
   ]
  },
  {
   "cell_type": "markdown",
   "metadata": {},
   "source": [
    "## Check out sklearn's permutation importance!\n",
    "\n",
    "https://scikit-learn.org/stable/modules/generated/sklearn.inspection.permutation_importance.html\n",
    "\n",
    "https://scikit-learn.org/stable/modules/permutation_importance.html#permutation-importance"
   ]
  },
  {
   "cell_type": "markdown",
   "metadata": {
    "slideshow": {
     "slide_type": "slide"
    }
   },
   "source": [
    "## Cons of permutation feature importance\n",
    "- strongly correlated features\n",
    "   - if one of the features is shuffled, the model can still use the other correlated feature\n",
    "   - both features appear to be less important than they actually are\n",
    "   - solution:\n",
    "      - check the correlation matrix plot\n",
    "      - remove all but one of the strongly correlated features\n",
    "- no feature interactions\n",
    "   - one feature might appear unimportant but combined with another feature could be important\n",
    "   - solution:\n",
    "      - permute two features to measure how important feature pairs are\n",
    "      - this can be computationally expensive"
   ]
  },
  {
   "cell_type": "markdown",
   "metadata": {},
   "source": [
    "## Quiz\n",
    "\n",
    "Let's assume you have 4 features. If you calculate permutation feature importance, you need to calculate that for each feature so you need to permute and recalculate test scores 4 times. If you were to calculate the permutation importance of feature pairs, how many times would you need to permute features and recalculate test scores? "
   ]
  },
  {
   "cell_type": "markdown",
   "metadata": {},
   "source": [
    "4 choose 2 = 6"
   ]
  },
  {
   "cell_type": "markdown",
   "metadata": {
    "slideshow": {
     "slide_type": "slide"
    }
   },
   "source": [
    "## <font color='LIGHTGRAY'>Global feature importance metrics</font>\n",
    "<font color='LIGHTGRAY'>By the end of this module, you will be able to</font>\n",
    " - <font color='LIGHTGRAY'>perform permutation feature importance calculation</font>\n",
    " - **study the coefficients of linear models**\n",
    " - <font color='LIGHTGRAY'>outlook to other metrics </font>"
   ]
  },
  {
   "cell_type": "markdown",
   "metadata": {
    "slideshow": {
     "slide_type": "slide"
    }
   },
   "source": [
    "## Coefficients of linear models\n",
    "- the coefficients of linear and logistic regression can be used as a measure of feature importance **ONLY IF** all features have the same mean (usually 0) and the same standard deviation (usually 1)\n",
    "   - all features meaning that the one-hot encoded and ordinal features as well!\n",
    "- then the absolute value of the coefficients can be used to rank them"
   ]
  },
  {
   "cell_type": "markdown",
   "metadata": {
    "slideshow": {
     "slide_type": "subslide"
    }
   },
   "source": [
    "## Let's rewrite the kfold CV function a bit"
   ]
  },
  {
   "cell_type": "code",
   "execution_count": 9,
   "metadata": {},
   "outputs": [],
   "source": [
    "from sklearn.linear_model import LogisticRegression\n",
    "def ML_pipeline_kfold_LR1(X,y,random_state,n_folds):\n",
    "    # create a test set\n",
    "    X_other, X_test, y_other, y_test = train_test_split(X, y, test_size=0.2, random_state = random_state)\n",
    "    # splitter for _other\n",
    "    kf = StratifiedKFold(n_splits=n_folds,shuffle=True,random_state=random_state)\n",
    "    # create the pipeline: preprocessor + supervised ML method\n",
    "    cat_ftrs = ['workclass','education','marital-status','occupation','relationship','race','sex','native-country']\n",
    "    cont_ftrs = ['age','fnlwgt','education-num','capital-gain','capital-loss','hours-per-week']\n",
    "    # one-hot encoder\n",
    "    categorical_transformer = Pipeline(steps=[\n",
    "        ('onehot', OneHotEncoder(sparse_output=False,handle_unknown='ignore'))])\n",
    "    # standard scaler\n",
    "    numeric_transformer = Pipeline(steps=[\n",
    "        ('scaler', StandardScaler())])\n",
    "    preprocessor = ColumnTransformer(\n",
    "        transformers=[\n",
    "            ('num', numeric_transformer, cont_ftrs),\n",
    "            ('cat', categorical_transformer, cat_ftrs)])\n",
    "    pipe = make_pipeline(preprocessor, LogisticRegression(penalty='l2', solver='lbfgs', max_iter=10000000))\n",
    "    # the parameter(s) we want to tune\n",
    "    param_grid = {'logisticregression__C': [0.01, 0.1, 1, 10,100]}\n",
    "    # prepare gridsearch\n",
    "    grid = GridSearchCV(pipe, param_grid=param_grid, cv=kf, return_train_score = True, n_jobs=-1)\n",
    "    # do kfold CV on _other\n",
    "    grid.fit(X_other, y_other)\n",
    "    feature_names = cont_ftrs + \\\n",
    "                list(grid.best_estimator_[0].named_transformers_['cat'][0].get_feature_names_out(cat_ftrs))\n",
    "    return grid, np.array(feature_names), X_test, y_test"
   ]
  },
  {
   "cell_type": "code",
   "execution_count": 10,
   "metadata": {
    "slideshow": {
     "slide_type": "subslide"
    }
   },
   "outputs": [
    {
     "name": "stdout",
     "output_type": "stream",
     "text": [
      "test score: 0.8582834331337326\n"
     ]
    },
    {
     "data": {
      "image/png": "[encoded data removed]",
      "text/plain": [
       "<Figure size 500x300 with 1 Axes>"
      ]
     },
     "metadata": {},
     "output_type": "display_data"
    }
   ],
   "source": [
    "grid, feature_names, X_test, y_test = ML_pipeline_kfold_LR1(X,y,42,4)\n",
    "print('test score:',grid.score(X_test,y_test))\n",
    "coefs = grid.best_estimator_[-1].coef_[0]\n",
    "sorted_indcs = np.argsort(np.abs(coefs))\n",
    "\n",
    "plt.figure(figsize=(5,3))\n",
    "plt.rcParams.update({'font.size': 11})\n",
    "plt.barh(np.arange(10),coefs[sorted_indcs[-10:]])\n",
    "plt.yticks(np.arange(10),feature_names[sorted_indcs[-10:]])\n",
    "plt.xlabel('coefficient')\n",
    "plt.title('not all scaled')\n",
    "plt.tight_layout()\n",
    "plt.savefig('figures/LR_coefs_notscaled.png',dpi=300)\n",
    "plt.show()"
   ]
  },
  {
   "cell_type": "markdown",
   "metadata": {},
   "source": [
    "The above features are not all scaled!"
   ]
  },
  {
   "cell_type": "code",
   "execution_count": 11,
   "metadata": {
    "slideshow": {
     "slide_type": "subslide"
    }
   },
   "outputs": [],
   "source": [
    "from sklearn.linear_model import LogisticRegression\n",
    "def ML_pipeline_kfold_LR2(X,y,random_state,n_folds):\n",
    "    # create a test set\n",
    "    X_other, X_test, y_other, y_test = train_test_split(X, y, test_size=0.2, random_state = random_state)\n",
    "    # splitter for _other\n",
    "    kf = StratifiedKFold(n_splits=n_folds,shuffle=True,random_state=random_state)\n",
    "    # create the pipeline: preprocessor + supervised ML method\n",
    "    cat_ftrs = ['workclass','education','marital-status','occupation','relationship','race','sex','native-country']\n",
    "    cont_ftrs = ['age','fnlwgt','education-num','capital-gain','capital-loss','hours-per-week']\n",
    "    # one-hot encoder\n",
    "    categorical_transformer = Pipeline(steps=[\n",
    "        ('onehot', OneHotEncoder(sparse_output=False,handle_unknown='ignore'))])\n",
    "    # standard scaler\n",
    "    numeric_transformer = Pipeline(steps=[\n",
    "        ('scaler', StandardScaler())])\n",
    "    preprocessor = ColumnTransformer(\n",
    "        transformers=[\n",
    "            ('num', numeric_transformer, cont_ftrs),\n",
    "            ('cat', categorical_transformer, cat_ftrs)])\n",
    "    final_scaler = StandardScaler()\n",
    "    pipe = make_pipeline(preprocessor,final_scaler,LogisticRegression(penalty='l2',solver='lbfgs'))\n",
    "    # the parameter(s) we want to tune\n",
    "    param_grid = {'logisticregression__C': [0.01, 0.1, 1, 10,100]}\n",
    "    # prepare gridsearch\n",
    "    grid = GridSearchCV(pipe, param_grid=param_grid,cv=kf, return_train_score = True,n_jobs=-1)\n",
    "    # do kfold CV on _other\n",
    "    grid.fit(X_other, y_other)\n",
    "    feature_names = cont_ftrs + \\\n",
    "                list(grid.best_estimator_[0].named_transformers_['cat'][0].get_feature_names_out(cat_ftrs))\n",
    "    \n",
    "    return grid, np.array(feature_names), X_test, y_test"
   ]
  },
  {
   "cell_type": "code",
   "execution_count": 12,
   "metadata": {
    "slideshow": {
     "slide_type": "subslide"
    }
   },
   "outputs": [
    {
     "name": "stdout",
     "output_type": "stream",
     "text": [
      "test score: 0.857976354982343\n"
     ]
    },
    {
     "data": {
      "image/png": "[encoded data removed]",
      "text/plain": [
       "<Figure size 500x300 with 1 Axes>"
      ]
     },
     "metadata": {},
     "output_type": "display_data"
    }
   ],
   "source": [
    "grid, feature_names, X_test, y_test = ML_pipeline_kfold_LR2(X,y,42,4)\n",
    "print('test score:',grid.score(X_test,y_test))\n",
    "coefs = grid.best_estimator_[-1].coef_[0]\n",
    "sorted_indcs = np.argsort(np.abs(coefs))\n",
    "\n",
    "plt.figure(figsize=(5,3))\n",
    "plt.rcParams.update({'font.size': 11})\n",
    "plt.barh(np.arange(10),coefs[sorted_indcs[-10:]])\n",
    "plt.yticks(np.arange(10),feature_names[sorted_indcs[-10:]])\n",
    "plt.xlabel('coefficient')\n",
    "plt.title('all scaled')\n",
    "plt.tight_layout()\n",
    "plt.savefig('figures/LR_coefs_scaled.png',dpi=300)\n",
    "plt.show()"
   ]
  },
  {
   "cell_type": "markdown",
   "metadata": {
    "slideshow": {
     "slide_type": "subslide"
    }
   },
   "source": [
    "<table><tr>\n",
    "<td> <img src=\"figures/LR_coefs_notscaled.png\" alt=\"Drawing\" style=\"width: 500px;\"/> </td>\n",
    "<td> <img src=\"figures/LR_coefs_scaled.png\" alt=\"Drawing\" style=\"width: 500px;\"/> </td>\n",
    "</tr></table>"
   ]
  },
  {
   "cell_type": "markdown",
   "metadata": {
    "slideshow": {
     "slide_type": "slide"
    }
   },
   "source": [
    "## <font color='LIGHTGRAY'>Global feature importance metrics</font>\n",
    "<font color='LIGHTGRAY'>By the end of this module, you will be able to</font>\n",
    " - <font color='LIGHTGRAY'>perform permutation feature importance calculation</font>\n",
    " - <font color='LIGHTGRAY'>study the coefficients of linear models</font>\n",
    " - **outlook to other metrics**\n"
   ]
  },
  {
   "cell_type": "markdown",
   "metadata": {},
   "source": [
    "- SVM:\n",
    "   - SVC.coef_ and SVR.coef_ can be used as a metric of feature importance if **all** features are standardized\n",
    "   - for linear SVMs only!\n",
    "- random forest:\n",
    "   - RandomForestRegressor.feature_importances_ and RandomForestClassification.feature_importances_\n",
    "   - gini importance or mean decrease impurity, see [here](https://scikit-learn.org/stable/auto_examples/ensemble/plot_forest_importances.html) and [here](https://stackoverflow.com/questions/15810339/how-are-feature-importances-in-randomforestclassifier-determined)\n",
    "   - Caution: impurity-based method are highly biased when the cardinality is high (many unique values), see permutation based method instead.\n",
    "- XGBoost:\n",
    "   - five different metrics are implemented, see [here](https://xgboost.readthedocs.io/en/latest/python/python_api.html#xgboost.Booster.get_score) and [here](https://towardsdatascience.com/be-careful-when-interpreting-your-features-importance-in-xgboost-6e16132588e7)\n",
    "   - “The **Gain** implies the relative contribution of the corresponding feature to the model calculated by taking each feature’s contribution for each tree in the model. A higher value of this metric when compared to another feature implies it is more important for generating a prediction.\n",
    "   - The **Coverage** metric means the relative number of observations related to this feature. For example, if you have 100 observations, 4 features and 3 trees, and suppose feature1 is used to decide the leaf node for 10, 5, and 2 observations in tree1, tree2 and tree3 respectively; then the metric will count cover for this feature as 10+5+2 = 17 observations. This will be calculated for all the 4 features and the cover will be 17 expressed as a percentage for all features’ cover metrics.\n",
    "   - The **Frequency (R)/Weight (python)** is the percentage representing the relative number of times a particular feature occurs in the trees of the model. In the above example, if feature1 occurred in 2 splits, 1 split and 3 splits in each of tree1, tree2 and tree3; then the weight for feature1 will be 2+1+3 = 6. The frequency for feature1 is calculated as its percentage weight over weights of all features.\n",
    "   - The Gain is the most relevant attribute to interpret the relative importance of each feature.\n",
    "  \n",
    "```\n",
    "#Available importance_types = [‘weight’, ‘gain’, ‘cover’, ‘total_gain’, ‘total_cover’]\n",
    "f = ‘gain’\n",
    "XGBClassifier.get_booster().get_score(importance_type= f)\n",
    "```"
   ]
  },
  {
   "cell_type": "markdown",
   "metadata": {},
   "source": [
    "## Quiz\n",
    "\n",
    "Sklearn's Random Forest calculates global feature importances in one way while XGBoost uses multiple approaches. Based on your reading, which XGBoost metric is the most similar to random forest's? \n",
    "\n",
    "Answer: Gain. Weight is about the number of times a feature is split on in the trees, and cover is about how many points flow through nodes where the feature is used, while gain is about the accuracy gained by using the feature.\r\n",
    "\r\n",
    "Alternatively, the second XGBoost article Links to an external site.links to another post where the metrics are compared: \"A comparison between feature importance calculation in scikit-learn Random Forest (or GradientBoosting) and XGBoost is provided in [1Links to an external site.].\" In this article, the author describes that gain is most similar to the sklearn RF method. "
   ]
  },
  {
   "cell_type": "markdown",
   "metadata": {},
   "source": [
    "## Mudcard"
   ]
  },
  {
   "cell_type": "code",
   "execution_count": null,
   "metadata": {},
   "outputs": [],
   "source": []
  }
 ],
 "metadata": {
  "celltoolbar": "Slideshow",
  "kernelspec": {
   "display_name": "Python 3 (ipykernel)",
   "language": "python",
   "name": "python3"
  },
  "language_info": {
   "codemirror_mode": {
    "name": "ipython",
    "version": 3
   },
   "file_extension": ".py",
   "mimetype": "text/x-python",
   "name": "python",
   "nbconvert_exporter": "python",
   "pygments_lexer": "ipython3",
   "version": "3.11.4"
  }
 },
 "nbformat": 4,
 "nbformat_minor": 4
}
