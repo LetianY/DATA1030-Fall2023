{
 "cells": [
  {
   "cell_type": "markdown",
   "metadata": {},
   "source": [
    "# Mudcard answers\n",
    "- NA"
   ]
  },
  {
   "cell_type": "markdown",
   "metadata": {
    "slideshow": {
     "slide_type": "slide"
    }
   },
   "source": [
    "## Missing data\n",
    "\n",
    "By the end of this module, you will be able to\n",
    "- apply multivariate imputation\n",
    "- apply XGBoost to a dataset with missing values\n",
    "- apply the reduced-features model (also called the pattern submodel approach)\n",
    "- decide which approach is best for your dataset"
   ]
  },
  {
   "cell_type": "markdown",
   "metadata": {
    "slideshow": {
     "slide_type": "subslide"
    }
   },
   "source": [
    "## We continue working with the house price data set\n",
    "- regression problem\n",
    "- categorical, ordinal, continuous features\n",
    "- missing data in all feature types"
   ]
  },
  {
   "cell_type": "code",
   "execution_count": 3,
   "metadata": {
    "slideshow": {
     "slide_type": "subslide"
    }
   },
   "outputs": [
    {
     "name": "stdout",
     "output_type": "stream",
     "text": [
      "(1460, 79)\n"
     ]
    }
   ],
   "source": [
    "# read the data\n",
    "import pandas as pd\n",
    "import numpy  as np\n",
    "from sklearn.model_selection import train_test_split\n",
    "\n",
    "# Let's load the data\n",
    "df = pd.read_csv('data/train.csv')\n",
    "\n",
    "# drop the ID\n",
    "df.drop(columns=['Id'],inplace=True)\n",
    "\n",
    "# the target variable\n",
    "y = df['SalePrice']\n",
    "df.drop(columns=['SalePrice'],inplace=True)\n",
    "\n",
    "# the unprocessed feature matrix\n",
    "X = df.values\n",
    "print(X.shape)\n",
    "\n",
    "# the feature names\n",
    "ftrs = df.columns"
   ]
  },
  {
   "cell_type": "code",
   "execution_count": 4,
   "metadata": {},
   "outputs": [
    {
     "name": "stdout",
     "output_type": "stream",
     "text": [
      "fraction of missing values in features:\n",
      "LotFrontage     0.177397\n",
      "Alley           0.937671\n",
      "MasVnrType      0.597260\n",
      "MasVnrArea      0.005479\n",
      "BsmtQual        0.025342\n",
      "BsmtCond        0.025342\n",
      "BsmtExposure    0.026027\n",
      "BsmtFinType1    0.025342\n",
      "BsmtFinType2    0.026027\n",
      "Electrical      0.000685\n",
      "FireplaceQu     0.472603\n",
      "GarageType      0.055479\n",
      "GarageYrBlt     0.055479\n",
      "GarageFinish    0.055479\n",
      "GarageQual      0.055479\n",
      "GarageCond      0.055479\n",
      "PoolQC          0.995205\n",
      "Fence           0.807534\n",
      "MiscFeature     0.963014\n",
      "dtype: float64\n",
      "data types of the features with missing values:\n",
      "LotFrontage     float64\n",
      "Alley            object\n",
      "MasVnrType       object\n",
      "MasVnrArea      float64\n",
      "BsmtQual         object\n",
      "BsmtCond         object\n",
      "BsmtExposure     object\n",
      "BsmtFinType1     object\n",
      "BsmtFinType2     object\n",
      "Electrical       object\n",
      "FireplaceQu      object\n",
      "GarageType       object\n",
      "GarageYrBlt     float64\n",
      "GarageFinish     object\n",
      "GarageQual       object\n",
      "GarageCond       object\n",
      "PoolQC           object\n",
      "Fence            object\n",
      "MiscFeature      object\n",
      "dtype: object\n",
      "fraction of points with missing values: 1.0\n"
     ]
    }
   ],
   "source": [
    "perc_missing_per_ftr = df.isnull().sum(axis=0)/df.shape[0]\n",
    "print('fraction of missing values in features:')\n",
    "print(perc_missing_per_ftr[perc_missing_per_ftr > 0])\n",
    "print('data types of the features with missing values:')\n",
    "print(df[perc_missing_per_ftr[perc_missing_per_ftr > 0].index].dtypes)\n",
    "frac_missing = sum(df.isnull().sum(axis=1)!=0)/df.shape[0]\n",
    "print('fraction of points with missing values:',frac_missing)"
   ]
  },
  {
   "cell_type": "code",
   "execution_count": 5,
   "metadata": {
    "slideshow": {
     "slide_type": "subslide"
    }
   },
   "outputs": [
    {
     "name": "stdout",
     "output_type": "stream",
     "text": [
      "(876, 79)\n",
      "(292, 79)\n",
      "(292, 79)\n"
     ]
    }
   ],
   "source": [
    "# let's split to train, CV, and test\n",
    "X_other, X_test, y_other, y_test = train_test_split(df, y, test_size=0.2, random_state=0)\n",
    "X_train, X_CV, y_train, y_CV = train_test_split(X_other, y_other, test_size=0.25, random_state=0)\n",
    "\n",
    "print(X_train.shape)\n",
    "print(X_CV.shape)\n",
    "print(X_test.shape)"
   ]
  },
  {
   "cell_type": "code",
   "execution_count": 6,
   "metadata": {
    "slideshow": {
     "slide_type": "subslide"
    }
   },
   "outputs": [],
   "source": [
    "# collect the various features\n",
    "cat_ftrs = ['MSZoning','Street','Alley','LandContour','LotConfig','Neighborhood','Condition1','Condition2',\\\n",
    "            'BldgType','HouseStyle','RoofStyle','RoofMatl','Exterior1st','Exterior2nd','MasVnrType','Foundation',\\\n",
    "           'Heating','CentralAir','Electrical','GarageType','PavedDrive','MiscFeature','SaleType','SaleCondition']\n",
    "ordinal_ftrs = ['LotShape','Utilities','LandSlope','ExterQual','ExterCond','BsmtQual','BsmtCond','BsmtExposure',\\\n",
    "               'BsmtFinType1','BsmtFinType2','HeatingQC','KitchenQual','Functional','FireplaceQu','GarageFinish',\\\n",
    "               'GarageQual','GarageCond','PoolQC','Fence']\n",
    "ordinal_cats = [['Reg','IR1','IR2','IR3'],['AllPub','NoSewr','NoSeWa','ELO'],['Gtl','Mod','Sev'],\\\n",
    "               ['Po','Fa','TA','Gd','Ex'],['Po','Fa','TA','Gd','Ex'],['NA','Po','Fa','TA','Gd','Ex'],\\\n",
    "               ['NA','Po','Fa','TA','Gd','Ex'],['NA','No','Mn','Av','Gd'],['NA','Unf','LwQ','Rec','BLQ','ALQ','GLQ'],\\\n",
    "               ['NA','Unf','LwQ','Rec','BLQ','ALQ','GLQ'],['Po','Fa','TA','Gd','Ex'],['Po','Fa','TA','Gd','Ex'],\\\n",
    "               ['Sal','Sev','Maj2','Maj1','Mod','Min2','Min1','Typ'],['NA','Po','Fa','TA','Gd','Ex'],\\\n",
    "               ['NA','Unf','RFn','Fin'],['NA','Po','Fa','TA','Gd','Ex'],['NA','Po','Fa','TA','Gd','Ex'],\n",
    "               ['NA','Fa','TA','Gd','Ex'],['NA','MnWw','GdWo','MnPrv','GdPrv']]\n",
    "num_ftrs = ['MSSubClass','LotFrontage','LotArea','OverallQual','OverallCond','YearBuilt','YearRemodAdd',\\\n",
    "             'MasVnrArea','BsmtFinSF1','BsmtFinSF2','BsmtUnfSF','TotalBsmtSF','1stFlrSF','2ndFlrSF',\\\n",
    "             'LowQualFinSF','GrLivArea','BsmtFullBath','BsmtHalfBath','FullBath','HalfBath','BedroomAbvGr',\\\n",
    "             'KitchenAbvGr','TotRmsAbvGrd','Fireplaces','GarageYrBlt','GarageCars','GarageArea','WoodDeckSF',\\\n",
    "             'OpenPorchSF','EnclosedPorch','3SsnPorch','ScreenPorch','PoolArea','MiscVal','MoSold','YrSold']"
   ]
  },
  {
   "cell_type": "code",
   "execution_count": 7,
   "metadata": {
    "slideshow": {
     "slide_type": "subslide"
    }
   },
   "outputs": [],
   "source": [
    "# preprocess with pipeline and columntransformer\n",
    "from sklearn.compose import ColumnTransformer\n",
    "from sklearn.pipeline import Pipeline\n",
    "from sklearn.preprocessing import OneHotEncoder\n",
    "from sklearn.preprocessing import OrdinalEncoder\n",
    "from sklearn.preprocessing import StandardScaler\n",
    "from sklearn.impute import SimpleImputer\n",
    "import warnings\n",
    "warnings.filterwarnings(\"ignore\")\n",
    "\n",
    "# one-hot encoder\n",
    "categorical_transformer = Pipeline(steps=[\n",
    "    ('imputer', SimpleImputer(strategy='constant',fill_value='missing')),\n",
    "    ('onehot', OneHotEncoder(sparse=False,handle_unknown='ignore'))])\n",
    "\n",
    "# ordinal encoder\n",
    "ordinal_transformer = Pipeline(steps=[\n",
    "    ('imputer2', SimpleImputer(strategy='constant',fill_value='NA')),\n",
    "    ('ordinal', OrdinalEncoder(categories = ordinal_cats))])\n",
    "\n",
    "# standard scaler\n",
    "numeric_transformer = Pipeline(steps=[\n",
    "    ('scaler', StandardScaler())])\n",
    "\n",
    "# collect the transformers\n",
    "preprocessor = ColumnTransformer(\n",
    "    transformers=[\n",
    "        ('num', numeric_transformer, num_ftrs),\n",
    "        ('cat', categorical_transformer, cat_ftrs),\n",
    "        ('ord', ordinal_transformer, ordinal_ftrs)])"
   ]
  },
  {
   "cell_type": "code",
   "execution_count": 8,
   "metadata": {
    "slideshow": {
     "slide_type": "subslide"
    }
   },
   "outputs": [
    {
     "name": "stdout",
     "output_type": "stream",
     "text": [
      "(876, 220)\n",
      "(292, 220)\n",
      "(292, 220)\n"
     ]
    }
   ],
   "source": [
    "# fit_transform the training set\n",
    "X_prep = preprocessor.fit_transform(X_train)\n",
    "# collect feature names\n",
    "feature_names = preprocessor.get_feature_names_out()\n",
    "\n",
    "df_train = pd.DataFrame(data=X_prep,columns=feature_names)\n",
    "print(df_train.shape)\n",
    "\n",
    "# transform the CV\n",
    "df_CV = preprocessor.transform(X_CV)\n",
    "df_CV = pd.DataFrame(data=df_CV,columns = feature_names)\n",
    "print(df_CV.shape)\n",
    "\n",
    "# transform the test\n",
    "df_test = preprocessor.transform(X_test)\n",
    "df_test = pd.DataFrame(data=df_test,columns = feature_names)\n",
    "print(df_test.shape)"
   ]
  },
  {
   "cell_type": "code",
   "execution_count": 9,
   "metadata": {},
   "outputs": [
    {
     "data": {
      "text/plain": [
       "array(['num__MSSubClass', 'num__LotFrontage', 'num__LotArea',\n",
       "       'num__OverallQual', 'num__OverallCond', 'num__YearBuilt',\n",
       "       'num__YearRemodAdd', 'num__MasVnrArea', 'num__BsmtFinSF1',\n",
       "       'num__BsmtFinSF2', 'num__BsmtUnfSF', 'num__TotalBsmtSF',\n",
       "       'num__1stFlrSF', 'num__2ndFlrSF', 'num__LowQualFinSF',\n",
       "       'num__GrLivArea', 'num__BsmtFullBath', 'num__BsmtHalfBath',\n",
       "       'num__FullBath', 'num__HalfBath', 'num__BedroomAbvGr',\n",
       "       'num__KitchenAbvGr', 'num__TotRmsAbvGrd', 'num__Fireplaces',\n",
       "       'num__GarageYrBlt', 'num__GarageCars', 'num__GarageArea',\n",
       "       'num__WoodDeckSF', 'num__OpenPorchSF', 'num__EnclosedPorch',\n",
       "       'num__3SsnPorch', 'num__ScreenPorch', 'num__PoolArea',\n",
       "       'num__MiscVal', 'num__MoSold', 'num__YrSold',\n",
       "       'cat__MSZoning_C (all)', 'cat__MSZoning_FV', 'cat__MSZoning_RH',\n",
       "       'cat__MSZoning_RL', 'cat__MSZoning_RM', 'cat__Street_Grvl',\n",
       "       'cat__Street_Pave', 'cat__Alley_Grvl', 'cat__Alley_Pave',\n",
       "       'cat__Alley_missing', 'cat__LandContour_Bnk',\n",
       "       'cat__LandContour_HLS', 'cat__LandContour_Low',\n",
       "       'cat__LandContour_Lvl', 'cat__LotConfig_Corner',\n",
       "       'cat__LotConfig_CulDSac', 'cat__LotConfig_FR2',\n",
       "       'cat__LotConfig_FR3', 'cat__LotConfig_Inside',\n",
       "       'cat__Neighborhood_Blmngtn', 'cat__Neighborhood_Blueste',\n",
       "       'cat__Neighborhood_BrDale', 'cat__Neighborhood_BrkSide',\n",
       "       'cat__Neighborhood_ClearCr', 'cat__Neighborhood_CollgCr',\n",
       "       'cat__Neighborhood_Crawfor', 'cat__Neighborhood_Edwards',\n",
       "       'cat__Neighborhood_Gilbert', 'cat__Neighborhood_IDOTRR',\n",
       "       'cat__Neighborhood_MeadowV', 'cat__Neighborhood_Mitchel',\n",
       "       'cat__Neighborhood_NAmes', 'cat__Neighborhood_NPkVill',\n",
       "       'cat__Neighborhood_NWAmes', 'cat__Neighborhood_NoRidge',\n",
       "       'cat__Neighborhood_NridgHt', 'cat__Neighborhood_OldTown',\n",
       "       'cat__Neighborhood_SWISU', 'cat__Neighborhood_Sawyer',\n",
       "       'cat__Neighborhood_SawyerW', 'cat__Neighborhood_Somerst',\n",
       "       'cat__Neighborhood_StoneBr', 'cat__Neighborhood_Timber',\n",
       "       'cat__Neighborhood_Veenker', 'cat__Condition1_Artery',\n",
       "       'cat__Condition1_Feedr', 'cat__Condition1_Norm',\n",
       "       'cat__Condition1_PosA', 'cat__Condition1_PosN',\n",
       "       'cat__Condition1_RRAe', 'cat__Condition1_RRAn',\n",
       "       'cat__Condition1_RRNe', 'cat__Condition1_RRNn',\n",
       "       'cat__Condition2_Artery', 'cat__Condition2_Feedr',\n",
       "       'cat__Condition2_Norm', 'cat__Condition2_PosA',\n",
       "       'cat__Condition2_PosN', 'cat__Condition2_RRAe',\n",
       "       'cat__BldgType_1Fam', 'cat__BldgType_2fmCon',\n",
       "       'cat__BldgType_Duplex', 'cat__BldgType_Twnhs',\n",
       "       'cat__BldgType_TwnhsE', 'cat__HouseStyle_1.5Fin',\n",
       "       'cat__HouseStyle_1.5Unf', 'cat__HouseStyle_1Story',\n",
       "       'cat__HouseStyle_2.5Fin', 'cat__HouseStyle_2.5Unf',\n",
       "       'cat__HouseStyle_2Story', 'cat__HouseStyle_SFoyer',\n",
       "       'cat__HouseStyle_SLvl', 'cat__RoofStyle_Flat',\n",
       "       'cat__RoofStyle_Gable', 'cat__RoofStyle_Gambrel',\n",
       "       'cat__RoofStyle_Hip', 'cat__RoofStyle_Mansard',\n",
       "       'cat__RoofStyle_Shed', 'cat__RoofMatl_CompShg',\n",
       "       'cat__RoofMatl_Metal', 'cat__RoofMatl_Roll',\n",
       "       'cat__RoofMatl_Tar&Grv', 'cat__RoofMatl_WdShake',\n",
       "       'cat__RoofMatl_WdShngl', 'cat__Exterior1st_AsbShng',\n",
       "       'cat__Exterior1st_AsphShn', 'cat__Exterior1st_BrkComm',\n",
       "       'cat__Exterior1st_BrkFace', 'cat__Exterior1st_CemntBd',\n",
       "       'cat__Exterior1st_HdBoard', 'cat__Exterior1st_ImStucc',\n",
       "       'cat__Exterior1st_MetalSd', 'cat__Exterior1st_Plywood',\n",
       "       'cat__Exterior1st_Stone', 'cat__Exterior1st_Stucco',\n",
       "       'cat__Exterior1st_VinylSd', 'cat__Exterior1st_Wd Sdng',\n",
       "       'cat__Exterior1st_WdShing', 'cat__Exterior2nd_AsbShng',\n",
       "       'cat__Exterior2nd_AsphShn', 'cat__Exterior2nd_Brk Cmn',\n",
       "       'cat__Exterior2nd_BrkFace', 'cat__Exterior2nd_CmentBd',\n",
       "       'cat__Exterior2nd_HdBoard', 'cat__Exterior2nd_ImStucc',\n",
       "       'cat__Exterior2nd_MetalSd', 'cat__Exterior2nd_Other',\n",
       "       'cat__Exterior2nd_Plywood', 'cat__Exterior2nd_Stone',\n",
       "       'cat__Exterior2nd_Stucco', 'cat__Exterior2nd_VinylSd',\n",
       "       'cat__Exterior2nd_Wd Sdng', 'cat__Exterior2nd_Wd Shng',\n",
       "       'cat__MasVnrType_BrkCmn', 'cat__MasVnrType_BrkFace',\n",
       "       'cat__MasVnrType_Stone', 'cat__MasVnrType_missing',\n",
       "       'cat__Foundation_BrkTil', 'cat__Foundation_CBlock',\n",
       "       'cat__Foundation_PConc', 'cat__Foundation_Slab',\n",
       "       'cat__Foundation_Stone', 'cat__Heating_Floor', 'cat__Heating_GasA',\n",
       "       'cat__Heating_GasW', 'cat__Heating_Grav', 'cat__Heating_OthW',\n",
       "       'cat__Heating_Wall', 'cat__CentralAir_N', 'cat__CentralAir_Y',\n",
       "       'cat__Electrical_FuseA', 'cat__Electrical_FuseF',\n",
       "       'cat__Electrical_FuseP', 'cat__Electrical_Mix',\n",
       "       'cat__Electrical_SBrkr', 'cat__Electrical_missing',\n",
       "       'cat__GarageType_2Types', 'cat__GarageType_Attchd',\n",
       "       'cat__GarageType_Basment', 'cat__GarageType_BuiltIn',\n",
       "       'cat__GarageType_CarPort', 'cat__GarageType_Detchd',\n",
       "       'cat__GarageType_missing', 'cat__PavedDrive_N',\n",
       "       'cat__PavedDrive_P', 'cat__PavedDrive_Y', 'cat__MiscFeature_Gar2',\n",
       "       'cat__MiscFeature_Othr', 'cat__MiscFeature_Shed',\n",
       "       'cat__MiscFeature_missing', 'cat__SaleType_COD',\n",
       "       'cat__SaleType_CWD', 'cat__SaleType_Con', 'cat__SaleType_ConLD',\n",
       "       'cat__SaleType_ConLI', 'cat__SaleType_ConLw', 'cat__SaleType_New',\n",
       "       'cat__SaleType_Oth', 'cat__SaleType_WD',\n",
       "       'cat__SaleCondition_Abnorml', 'cat__SaleCondition_AdjLand',\n",
       "       'cat__SaleCondition_Alloca', 'cat__SaleCondition_Family',\n",
       "       'cat__SaleCondition_Normal', 'cat__SaleCondition_Partial',\n",
       "       'ord__LotShape', 'ord__Utilities', 'ord__LandSlope',\n",
       "       'ord__ExterQual', 'ord__ExterCond', 'ord__BsmtQual',\n",
       "       'ord__BsmtCond', 'ord__BsmtExposure', 'ord__BsmtFinType1',\n",
       "       'ord__BsmtFinType2', 'ord__HeatingQC', 'ord__KitchenQual',\n",
       "       'ord__Functional', 'ord__FireplaceQu', 'ord__GarageFinish',\n",
       "       'ord__GarageQual', 'ord__GarageCond', 'ord__PoolQC', 'ord__Fence'],\n",
       "      dtype=object)"
      ]
     },
     "execution_count": 9,
     "metadata": {},
     "output_type": "execute_result"
    }
   ],
   "source": [
    "feature_names"
   ]
  },
  {
   "cell_type": "code",
   "execution_count": 10,
   "metadata": {
    "slideshow": {
     "slide_type": "subslide"
    }
   },
   "outputs": [
    {
     "name": "stdout",
     "output_type": "stream",
     "text": [
      "data dimensions: (876, 220)\n",
      "fraction of missing values in features:\n",
      "num__LotFrontage    0.173516\n",
      "num__MasVnrArea     0.004566\n",
      "num__GarageYrBlt    0.050228\n",
      "dtype: float64\n",
      "fraction of points with missing values: 0.2237442922374429\n"
     ]
    }
   ],
   "source": [
    "print('data dimensions:',df_train.shape)\n",
    "perc_missing_per_ftr = df_train.isnull().sum(axis=0)/df_train.shape[0]\n",
    "print('fraction of missing values in features:')\n",
    "print(perc_missing_per_ftr[perc_missing_per_ftr > 0])\n",
    "frac_missing = sum(df_train.isnull().sum(axis=1)!=0)/df_train.shape[0]\n",
    "print('fraction of points with missing values:',frac_missing)"
   ]
  },
  {
   "cell_type": "markdown",
   "metadata": {},
   "source": [
    "Missing values in ordinal and categorical features already imputed with NA, we are only dealing with numeric missing values now."
   ]
  },
  {
   "cell_type": "markdown",
   "metadata": {
    "slideshow": {
     "slide_type": "slide"
    }
   },
   "source": [
    "## <font color='LIGHTGRAY'>Missing data</font>\n",
    "\n",
    "<font color='LIGHTGRAY'>By the end of this module, you will be able to</font>\n",
    "- **apply multivariate imputation**\n",
    "- <font color='LIGHTGRAY'>apply XGBoost to a dataset with missing values</font>\n",
    "- <font color='LIGHTGRAY'>apply the reduced-features model (also called the pattern submodel approach)</font>\n",
    "- <font color='LIGHTGRAY'>decide which approach is best for your dataset</font>"
   ]
  },
  {
   "cell_type": "markdown",
   "metadata": {
    "slideshow": {
     "slide_type": "slide"
    }
   },
   "source": [
    "### Multivariate Imputation\n",
    "\n",
    "- models each feature with missing values as a function of other features, and uses that estimate for imputation\n",
    "   - at each step, a feature is designated as target variable and the other feature columns are treated as feature matrix X\n",
    "   - a regressor is trained on (X, y) for known y\n",
    "   - then, the regressor is used to predict the missing values of y\n",
    "- in the ML pipeline:\n",
    "   - create n imputed datasets\n",
    "   - run all of them through the ML pipeline\n",
    "   - generate n test scores\n",
    "   - the uncertainty in the test scores is due to the uncertainty in imputation\n",
    "- paper [here](https://www.jstatsoft.org/article/view/v045i03)"
   ]
  },
  {
   "cell_type": "markdown",
   "metadata": {
    "slideshow": {
     "slide_type": "subslide"
    }
   },
   "source": [
    "### sklearn's IterativeImputer"
   ]
  },
  {
   "cell_type": "code",
   "execution_count": 11,
   "metadata": {},
   "outputs": [
    {
     "name": "stdout",
     "output_type": "stream",
     "text": [
      "   num__LotFrontage  num__MasVnrArea  num__GarageYrBlt\n",
      "0          0.424926        -0.573303          0.979398\n",
      "1               NaN         0.492835          1.018748\n",
      "2               NaN        -0.573303          0.192399\n",
      "3         -0.049970         0.810076         -0.476551\n",
      "4         -1.474659        -0.022031          0.979398\n",
      "   num__LotFrontage  num__MasVnrArea  num__GarageYrBlt\n",
      "0          0.424926        -0.573303          0.979398\n",
      "1         -1.647349         0.492835          1.018748\n",
      "2          0.424926        -0.573303          0.192399\n",
      "3         -0.049970         0.810076         -0.476551\n",
      "4         -1.474659        -0.022031          0.979398\n"
     ]
    }
   ],
   "source": [
    "from sklearn.experimental import enable_iterative_imputer\n",
    "from sklearn.impute import IterativeImputer\n",
    "from sklearn.ensemble import RandomForestRegressor\n",
    "from sklearn.linear_model import LinearRegression\n",
    "\n",
    "print(df_train[['num__LotFrontage','num__MasVnrArea','num__GarageYrBlt']].head())\n",
    "\n",
    "imputer = IterativeImputer(estimator = RandomForestRegressor(n_estimators=1), random_state=42)\n",
    "# imputer = IterativeImputer(estimator = LinearRegression(), random_state=42)\n",
    "X_impute = imputer.fit_transform(df_train)\n",
    "df_train_imp = pd.DataFrame(data=X_impute, columns = df_train.columns)\n",
    "\n",
    "print(df_train_imp[['num__LotFrontage','num__MasVnrArea','num__GarageYrBlt']].head())\n",
    "\n",
    "df_CV_imp = pd.DataFrame(data=imputer.transform(df_CV), columns = df_train.columns)\n",
    "df_test_imp = pd.DataFrame(data=imputer.transform(df_test), columns = df_train.columns)"
   ]
  },
  {
   "cell_type": "markdown",
   "metadata": {},
   "source": [
    "### Does it make sense to impute?\n",
    "- GarageYearBuilt should definitely not be imputed because a missing value indicates no garage on the property"
   ]
  },
  {
   "cell_type": "markdown",
   "metadata": {},
   "source": [
    "## Quiz 1\n",
    "\n",
    "Replace the RandomForestRegressor with a linear regression model. Rerun the imputation a couple of times. What changes? Why is this a problem?\n",
    "\n",
    "**Answer:** Linear regression is deterministic so the imputed values do not change when you rerun the code. This is bad because you will not be able to assess how uncertainty of imputation impacts the predictive power of your models."
   ]
  },
  {
   "cell_type": "code",
   "execution_count": 12,
   "metadata": {
    "scrolled": true
   },
   "outputs": [
    {
     "name": "stdout",
     "output_type": "stream",
     "text": [
      "   num__LotFrontage  num__MasVnrArea  num__GarageYrBlt\n",
      "0          0.424926        -0.573303          0.979398\n",
      "1               NaN         0.492835          1.018748\n",
      "2               NaN        -0.573303          0.192399\n",
      "3         -0.049970         0.810076         -0.476551\n",
      "4         -1.474659        -0.022031          0.979398\n",
      "   num__LotFrontage  num__MasVnrArea  num__GarageYrBlt\n",
      "0          0.424926        -0.573303          0.979398\n",
      "1         -1.844555         0.492835          1.018748\n",
      "2         -0.676506        -0.573303          0.192399\n",
      "3         -0.049970         0.810076         -0.476551\n",
      "4         -1.474659        -0.022031          0.979398\n"
     ]
    }
   ],
   "source": [
    "print(df_train[['num__LotFrontage','num__MasVnrArea','num__GarageYrBlt']].head())\n",
    "\n",
    "imputer = IterativeImputer(estimator = LinearRegression(), random_state=42)\n",
    "X_impute = imputer.fit_transform(df_train)\n",
    "df_train_imp = pd.DataFrame(data=X_impute, columns = df_train.columns)\n",
    "\n",
    "print(df_train_imp[['num__LotFrontage','num__MasVnrArea','num__GarageYrBlt']].head())\n",
    "\n",
    "df_CV_imp = pd.DataFrame(data=imputer.transform(df_CV), columns = df_train.columns)\n",
    "df_test_imp = pd.DataFrame(data=imputer.transform(df_test), columns = df_train.columns)"
   ]
  },
  {
   "cell_type": "markdown",
   "metadata": {
    "slideshow": {
     "slide_type": "slide"
    }
   },
   "source": [
    "## <font color='LIGHTGRAY'>Missing data</font>\n",
    "\n",
    "<font color='LIGHTGRAY'>By the end of this module, you will be able to</font>\n",
    "- <font color='LIGHTGRAY'>apply multivariate imputation</font>\n",
    "- **apply XGBoost to a dataset with missing values**\n",
    "- <font color='LIGHTGRAY'>apply the reduced-features model (also called the pattern submodel approach)</font>\n",
    "- <font color='LIGHTGRAY'>decide which approach is best for your dataset</font>"
   ]
  },
  {
   "attachments": {
    "43048191-f77f-4a4e-849e-c3c3a6e40f69.png": {
     "image/png": "[encoded data removed]"
    }
   },
   "cell_type": "markdown",
   "metadata": {
    "slideshow": {
     "slide_type": "slide"
    }
   },
   "source": [
    "## XGBoost\n",
    "- eXtreme Gradient Boosting - a popular tree-based method\n",
    "- [blog post](https://xgboost.readthedocs.io/en/latest/tutorials/model.html) and [paper](http://delivery.acm.org/10.1145/2940000/2939785/p785-chen.pdf)\n",
    "   -  decision tree ensembles: classification and regression trees (CART) -- associate scores to trees & ensemble\n",
    "   -  ![image.png](attachment:43048191-f77f-4a4e-849e-c3c3a6e40f69.png)\n",
    "- more advanced than random forest\n",
    "   - it has l1 and l2 regularization while random forest does not\n",
    "   - trees are not independent\n",
    "      - the next tree is built to improve the previous tree\n",
    "      - less trees are necessary to achieve same accuracy\n",
    "      - but XGBoost trees can overfit - more on this in the problem set\n",
    "   - handles missing values well"
   ]
  },
  {
   "cell_type": "markdown",
   "metadata": {
    "slideshow": {
     "slide_type": "slide"
    }
   },
   "source": [
    "## XGBoost and missing values\n",
    "- sklearn raises an error if the feature matrix (X) contains nans - but see [here](https://scikit-learn.org/stable/modules/impute.html#estimators-that-handle-nan-values)\n",
    "- XGBoost doesn't! \n",
    "- If a feature with missing values is split:\n",
    "    - XGBoost tries to put the points with missing values to the left and right\n",
    "    - calculates a metric called gain for both options\n",
    "    - puts the points with missing values to the side with the higher gain\n",
    "- if missingness correlates with the target variable, XGBoost extracts this info!"
   ]
  },
  {
   "cell_type": "code",
   "execution_count": 16,
   "metadata": {
    "slideshow": {
     "slide_type": "subslide"
    }
   },
   "outputs": [
    {
     "name": "stdout",
     "output_type": "stream",
     "text": [
      "the CV RMSE: 23774.18106238455\n",
      "the test RMSE: 32847.275777137525\n",
      "the test R2: 0.8437638333292397\n"
     ]
    }
   ],
   "source": [
    "import xgboost\n",
    "from sklearn.model_selection import ParameterGrid\n",
    "from sklearn.metrics import mean_squared_error\n",
    "from sklearn.metrics import r2_score\n",
    "\n",
    "param_grid = {\"learning_rate\": [0.03],\n",
    "              \"n_estimators\": [10000],\n",
    "              \"seed\": [0],\n",
    "              #\"reg_alpha\": [0e0, 1e-2, 1e-1, 1e0, 1e1, 1e2],\n",
    "              #\"reg_lambda\": [0e0, 1e-2, 1e-1, 1e0, 1e1, 1e2],\n",
    "              \"missing\": [np.nan], \n",
    "              #\"max_depth\": [1, 3, 10, 30, 100],\n",
    "              \"colsample_bytree\": [0.9],              \n",
    "              \"subsample\": [0.66]}\n",
    "\n",
    "XGB = xgboost.XGBRegressor()\n",
    "XGB.set_params(**ParameterGrid(param_grid)[0]) # ONLY THE ONE MODEL IS TRAINED HERE!\n",
    "XGB.fit(df_train, y_train, early_stopping_rounds=50, eval_set=[(df_CV, y_CV)], verbose=False)\n",
    "y_CV_pred = XGB.predict(df_CV)\n",
    "print('the CV RMSE:',np.sqrt(mean_squared_error(y_CV,y_CV_pred)))\n",
    "y_test_pred = XGB.predict(df_test)\n",
    "print('the test RMSE:',np.sqrt(mean_squared_error(y_test,y_test_pred)))\n",
    "print('the test R2:',r2_score(y_test,y_test_pred))"
   ]
  },
  {
   "cell_type": "markdown",
   "metadata": {},
   "source": [
    "### XGB notes\n",
    "- do not tune the number of trees, set it to a very large value like 10000\n",
    "- use early stopping instead! it will automatically determine the best number of trees based on a validation set.\n",
    "- there are a large number of hyperparameters in XGB\n",
    "    - tune maybe `max_depth`, `reg_alpha`, and `reg_lambda`\n",
    "- the default values of some hyperparameters are not optimal\n",
    "    - set `colsample_bytree` and `subsample` to values a bit smaller than 1 to avoid overfitting"
   ]
  },
  {
   "cell_type": "markdown",
   "metadata": {},
   "source": [
    "## Quiz 2\n",
    "How many trees does the XGBoost model trained on the dataset have? Look up on stackoverflow or the XGBoost manual how to determine it."
   ]
  },
  {
   "cell_type": "code",
   "execution_count": 17,
   "metadata": {},
   "outputs": [
    {
     "name": "stdout",
     "output_type": "stream",
     "text": [
      "426\n"
     ]
    }
   ],
   "source": [
    "dump_list = XGB.get_booster().get_dump()\n",
    "num_trees = len(dump_list)\n",
    "print(num_trees)"
   ]
  },
  {
   "cell_type": "code",
   "execution_count": 18,
   "metadata": {},
   "outputs": [
    {
     "data": {
      "text/plain": [
       "375"
      ]
     },
     "execution_count": 18,
     "metadata": {},
     "output_type": "execute_result"
    }
   ],
   "source": [
    "XGB.best_iteration"
   ]
  },
  {
   "cell_type": "markdown",
   "metadata": {},
   "source": [
    "## <font color='LIGHTGRAY'>Missing data</font>\n",
    "\n",
    "<font color='LIGHTGRAY'>By the end of this module, you will be able to</font>\n",
    "- <font color='LIGHTGRAY'>apply multivariate imputation</font>\n",
    "- <font color='LIGHTGRAY'>apply XGBoost to a dataset with missing values</font>\n",
    "- **apply the reduced-features model (also called the pattern submodel approach)**\n",
    "- <font color='LIGHTGRAY'>decide which approach is best for your dataset</font>"
   ]
  },
  {
   "cell_type": "markdown",
   "metadata": {
    "slideshow": {
     "slide_type": "slide"
    }
   },
   "source": [
    "## Reduced-features model (or pattern submodel approach)\n",
    "- first described in 2007 in a [JMLR article](http://www.jmlr.org/papers/v8/saar-tsechansky07a.html) as the reduced features model\n",
    "- in 2018, \"rediscovered\" as the pattern submodel approach in [Biostatistics](https://www.ncbi.nlm.nih.gov/pubmed/30203058)"
   ]
  },
  {
   "cell_type": "markdown",
   "metadata": {
    "slideshow": {
     "slide_type": "subslide"
    }
   },
   "source": [
    "<center>My test set:</center>\n",
    "\n",
    "| index | feature 1 | feature 2 | feature 3 | target var |\n",
    "|- | :-: | :-: | :-: | :-: |\n",
    "| 0     \t|     <font color='red'>NA</font>    \t|     45    \t|     <font color='red'>NA</font>    \t|      0     \t|\n",
    "| 1     \t|     <font color='red'>NA</font>    \t|     <font color='red'>NA</font>    \t|     8     \t|      1     \t|\n",
    "| 2     \t|     12    \t|     6     \t|     34    \t|      0     \t|\n",
    "| 3     \t|     1     \t|     89    \t|     <font color='red'>NA</font>    \t|      0     \t|\n",
    "| 4     \t|     0     \t|     <font color='red'>NA</font>    \t|     47    \t|      1     \t|\n",
    "| 5     \t|    687    \t|     24    \t|     67    \t|      1     \t|\n",
    "| 6     \t|     <font color='red'>NA</font>    \t|     23    \t|     <font color='red'>NA</font>    \t|      1     \t|\n",
    "\n",
    "To predict points 0 and 6, I will use train and CV points that are complete in feature 2.\n",
    "\n",
    "To predict point 1, I will use train and CV points that are complete in feature 3.\n",
    "\n",
    "To predict point 2 and 5, I will use train and CV points that are complete in features 1-3.\n",
    "\n",
    "Etc. We will train as many models as the number of patterns in test/deployment."
   ]
  },
  {
   "cell_type": "markdown",
   "metadata": {
    "slideshow": {
     "slide_type": "subslide"
    }
   },
   "source": [
    "## How to determine the patterns?"
   ]
  },
  {
   "cell_type": "code",
   "execution_count": 19,
   "metadata": {},
   "outputs": [
    {
     "name": "stdout",
     "output_type": "stream",
     "text": [
      "(6, 3)\n",
      "[False False False] 223\n",
      "[False False  True] 21\n",
      "[False  True False] 1\n",
      "[ True False False] 44\n",
      "[ True False  True] 2\n",
      "[ True  True False] 1\n"
     ]
    }
   ],
   "source": [
    "mask = df_test[['num__LotFrontage','num__MasVnrArea','num__GarageYrBlt']].isnull()\n",
    "\n",
    "unique_rows, counts = np.unique(mask, axis=0, return_counts=True)\n",
    "print(unique_rows.shape) # 6 patterns, we will train 6 models\n",
    "for i in range(len(counts)):\n",
    "    print(unique_rows[i],counts[i])"
   ]
  },
  {
   "cell_type": "code",
   "execution_count": 27,
   "metadata": {
    "slideshow": {
     "slide_type": "slide"
    }
   },
   "outputs": [],
   "source": [
    "import xgboost\n",
    "from sklearn.model_selection import ParameterGrid\n",
    "from sklearn.metrics import mean_squared_error\n",
    "from sklearn.metrics import r2_score\n",
    "\n",
    "def xgb_model(X_train, Y_train, X_CV, y_CV, X_test, y_test, verbose=1):\n",
    "\n",
    "    # make into row vectors to avoid an obnoxious sklearn/xgb warning\n",
    "    Y_train = np.reshape(np.array(Y_train), (1, -1)).ravel()\n",
    "    y_CV = np.reshape(np.array(y_CV), (1, -1)).ravel()\n",
    "    y_test = np.reshape(np.array(y_test), (1, -1)).ravel()\n",
    "\n",
    "    XGB = xgboost.XGBRegressor(n_jobs=1)\n",
    "    \n",
    "    # find the best parameter set\n",
    "    param_grid = {\"learning_rate\": [0.03],\n",
    "                  \"n_estimators\": [10000],\n",
    "                  \"seed\": [0],\n",
    "                  #\"reg_alpha\": [0e0, 1e-2, 1e-1, 1e0, 1e1, 1e2],\n",
    "                  #\"reg_lambda\": [0e0, 1e-2, 1e-1, 1e0, 1e1, 1e2],\n",
    "                  \"missing\": [np.nan], \n",
    "                  #\"max_depth\": [1,3,10,30,100,],\n",
    "                  \"colsample_bytree\": [0.9],              \n",
    "                  \"subsample\": [0.66]}\n",
    "\n",
    "    pg = ParameterGrid(param_grid)\n",
    "\n",
    "    scores = np.zeros(len(pg))\n",
    "\n",
    "    for i in range(len(pg)):\n",
    "        if verbose >= 5:\n",
    "            print(\"Param set \" + str(i + 1) + \" / \" + str(len(pg)))\n",
    "        params = pg[i]\n",
    "        XGB.set_params(**params)\n",
    "        eval_set = [(X_CV, y_CV)]\n",
    "        XGB.fit(X_train, Y_train,\n",
    "                early_stopping_rounds=50, eval_set=eval_set, verbose=False)# with early stopping\n",
    "        y_CV_pred = XGB.predict(X_CV, ntree_limit=XGB.best_ntree_limit)\n",
    "        scores[i] = mean_squared_error(y_CV, y_CV_pred)\n",
    "\n",
    "    best_params = np.array(pg)[scores == np.max(scores)]\n",
    "    if verbose >= 4:\n",
    "        print('Test set max score and best parameters are:')\n",
    "        print(np.max(scores))\n",
    "        print(best_params)\n",
    "\n",
    "    # test the model on the test set with best parameter set\n",
    "    XGB.set_params(**best_params[0])\n",
    "    XGB.fit(X_train, Y_train,\n",
    "            early_stopping_rounds=50, eval_set=eval_set, verbose=False)\n",
    "    y_test_pred = XGB.predict(X_test, ntree_limit=XGB.best_ntree_limit)\n",
    "\n",
    "    # 0 (silent), 1 (warning), 2 (info), 3 (debug)\n",
    "    if verbose >= 1:\n",
    "        print ('The MSE is:',mean_squared_error(y_test,y_test_pred))\n",
    "    if verbose >= 2:\n",
    "        print ('The predictions are:')\n",
    "        print (y_test_pred)\n",
    "    if verbose >= 3:\n",
    "        print(\"Feature importances:\")\n",
    "        print(XGB.feature_importances_)\n",
    "\n",
    "    return (mean_squared_error(y_test,y_test_pred), y_test_pred, XGB.feature_importances_)\n",
    "\n",
    "# Function: Reduced-feature XGB model\n",
    "# all the inputs need to be pandas DataFrame\n",
    "def reduced_feature_xgb(X_train, Y_train, X_CV, y_CV, X_test, y_test):\n",
    "    \n",
    "    # find all unique patterns of missing value in test set\n",
    "    mask = X_test.isnull()\n",
    "    unique_rows = np.array(np.unique(mask, axis=0))\n",
    "    all_y_test_pred = pd.DataFrame()\n",
    "    \n",
    "    print('there are', len(unique_rows), 'unique missing value patterns.')\n",
    "    \n",
    "    # divide test sets into subgroups according to the unique patterns\n",
    "    for i in range(len(unique_rows)):\n",
    "        print ('working on unique pattern', i)\n",
    "        ## generate X_test subset that matches the unique pattern i\n",
    "        sub_X_test = pd.DataFrame()\n",
    "        sub_y_test = pd.Series(dtype=float)\n",
    "        for j in range(len(mask)): # check each row in mask\n",
    "            row_mask = np.array(mask.iloc[j])\n",
    "            if np.array_equal(row_mask, unique_rows[i]): # if the pattern matches the ith unique pattern\n",
    "                sub_X_test = pd.concat([sub_X_test,X_test.iloc[[j]]])# append the according X_test row j to the subset\n",
    "                sub_y_test = pd.concat([sub_y_test, y_test.iloc[[j]]])# append the according y_test row j\n",
    "\n",
    "        sub_X_test = sub_X_test[X_test.columns[~unique_rows[i]]]\n",
    "        \n",
    "        ## choose the according reduced features for subgroups\n",
    "        sub_X_train = pd.DataFrame()\n",
    "        sub_Y_train = pd.DataFrame()\n",
    "        sub_X_CV = pd.DataFrame()\n",
    "        sub_y_CV = pd.DataFrame()\n",
    "        # 1.cut the feature columns that have nans in the according sub_X_test\n",
    "        sub_X_train = X_train[X_train.columns[~unique_rows[i]]]\n",
    "        sub_X_CV = X_CV[X_CV.columns[~unique_rows[i]]]\n",
    "        # 2.cut the rows in the sub_X_train and sub_X_CV that have any nans\n",
    "        sub_X_train = sub_X_train.dropna()\n",
    "        sub_X_CV = sub_X_CV.dropna()   \n",
    "        # 3.cut the sub_Y_train and sub_y_CV accordingly\n",
    "        sub_Y_train = Y_train.iloc[sub_X_train.index]\n",
    "        sub_y_CV = y_CV.iloc[sub_X_CV.index]\n",
    "        \n",
    "        # run XGB\n",
    "        sub_y_test_pred = xgb_model(sub_X_train, sub_Y_train, sub_X_CV, \n",
    "                                       sub_y_CV, sub_X_test, sub_y_test, verbose=0)\n",
    "        sub_y_test_pred = pd.DataFrame(sub_y_test_pred[1],columns=['sub_y_test_pred'],\n",
    "                                          index=sub_y_test.index)\n",
    "        print('   RMSE:',np.sqrt(mean_squared_error(sub_y_test,sub_y_test_pred)))\n",
    "        # collect the test predictions\n",
    "        all_y_test_pred = pd.concat([all_y_test_pred, sub_y_test_pred])\n",
    "        \n",
    "    # rank the final y_test_pred according to original y_test index\n",
    "    all_y_test_pred = all_y_test_pred.sort_index()\n",
    "    y_test = y_test.sort_index()\n",
    "               \n",
    "    # get global RMSE\n",
    "    total_RMSE = np.sqrt(mean_squared_error(y_test,all_y_test_pred))\n",
    "    total_R2 =  r2_score(y_test,all_y_test_pred)\n",
    "    return total_RMSE, total_R2"
   ]
  },
  {
   "cell_type": "code",
   "execution_count": 28,
   "metadata": {
    "slideshow": {
     "slide_type": "-"
    }
   },
   "outputs": [
    {
     "name": "stdout",
     "output_type": "stream",
     "text": [
      "there are 6 unique missing value patterns.\n",
      "working on unique pattern 0\n",
      "   RMSE: 34907.07925849934\n",
      "working on unique pattern 1\n",
      "   RMSE: 12414.450185597403\n",
      "working on unique pattern 2\n",
      "   RMSE: 3221.015625\n",
      "working on unique pattern 3\n",
      "   RMSE: 20123.48819234153\n",
      "working on unique pattern 4\n",
      "   RMSE: 18826.93222964044\n",
      "working on unique pattern 5\n",
      "   RMSE: 57656.671875\n",
      "final RMSE: 31882.94657348426\n",
      "final R2: 0.8528027270348721\n"
     ]
    }
   ],
   "source": [
    "RMSE, R2 = reduced_feature_xgb(df_train, y_train, df_CV, y_CV, df_test, y_test)\n",
    "print('final RMSE:', RMSE)\n",
    "print('final R2:', R2)"
   ]
  },
  {
   "cell_type": "markdown",
   "metadata": {},
   "source": [
    "## Quiz 3\n",
    "\n",
    "If the dataset has missing values in 4 categorical features, 2 ordinal features, and 3 continuous features, what's the maximum number of models you'll need to train with the reduced feature approach?  \n",
    "\n",
    "**Answer:** The missing values in the categorical and ordinal features are handled with preprocessing. Only the three continuous features will have missing values after preprocessing. The maximum number of patters are 8:\r\n",
    "T F T\r\n",
    "\r\n",
    "F T T\r\n",
    "\r\n",
    "Generally, the maximum number of models you'll need to train with the reduced features model is 2^(nr_m), where nr_m is the number of continuous features with missing values."
   ]
  },
  {
   "cell_type": "code",
   "execution_count": 15,
   "metadata": {},
   "outputs": [
    {
     "data": {
      "text/plain": [
       "8"
      ]
     },
     "execution_count": 15,
     "metadata": {},
     "output_type": "execute_result"
    }
   ],
   "source": [
    "2**(3)"
   ]
  },
  {
   "cell_type": "markdown",
   "metadata": {
    "slideshow": {
     "slide_type": "slide"
    }
   },
   "source": [
    "## <font color='LIGHTGRAY'>Missing data</font>\n",
    "\n",
    "<font color='LIGHTGRAY'>By the end of this module, you will be able to</font>\n",
    "- <font color='LIGHTGRAY'>apply multivariate imputation</font>\n",
    "- <font color='LIGHTGRAY'>apply XGBoost to a dataset with missing values</font>\n",
    "- <font color='LIGHTGRAY'>apply the reduced-features model (also called the pattern submodel approach)</font>\n",
    "- **decide which approach is best for your dataset**"
   ]
  },
  {
   "cell_type": "markdown",
   "metadata": {
    "slideshow": {
     "slide_type": "slide"
    }
   },
   "source": [
    "## Which approach is best for my data?\n",
    "- **XGB**: run $n$ XGB models with $n$ different seeds\n",
    "- **imputation**: prepare $n$ different imputations and run $n$ models on them\n",
    "- **reduced-features**: run $n$ reduced-features model with $n$ different seeds\n",
    "- rank the three methods based on how significantly different the corresponding mean scores are"
   ]
  },
  {
   "cell_type": "markdown",
   "metadata": {},
   "source": [
    "## Mudcard"
   ]
  }
 ],
 "metadata": {
  "celltoolbar": "Slideshow",
  "kernelspec": {
   "display_name": "Python 3 (ipykernel)",
   "language": "python",
   "name": "python3"
  },
  "language_info": {
   "codemirror_mode": {
    "name": "ipython",
    "version": 3
   },
   "file_extension": ".py",
   "mimetype": "text/x-python",
   "name": "python",
   "nbconvert_exporter": "python",
   "pygments_lexer": "ipython3",
   "version": "3.11.4"
  }
 },
 "nbformat": 4,
 "nbformat_minor": 4
}
